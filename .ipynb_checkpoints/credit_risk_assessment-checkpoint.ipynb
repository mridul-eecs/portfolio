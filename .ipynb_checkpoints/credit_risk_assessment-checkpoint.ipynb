{
 "cells": [
  {
   "cell_type": "markdown",
   "metadata": {
    "ExecuteTime": {
     "end_time": "2022-09-20T06:18:58.034655Z",
     "start_time": "2022-09-20T06:18:58.032563Z"
    }
   },
   "source": [
    "### Bussiness Requirement\n",
    "\n",
    "Credit default risk is the chance that companies/individuals will be unable to make the required payments on their debt obligations, which can lead to a possibility of loss for a lender. \n",
    "\n",
    "Earlier credit analysts would assess the risk by analyzing the borrower’s credentials and capabilities, but then this was prone to errors. With the advent of Machine learning, ML algorithms can perform the credit risk assessment with better precision and much faster than any humans."
   ]
  },
  {
   "cell_type": "markdown",
   "metadata": {},
   "source": [
    "### Dataset"
   ]
  },
  {
   "cell_type": "code",
   "execution_count": null,
   "metadata": {},
   "outputs": [],
   "source": []
  }
 ],
 "metadata": {
  "kernelspec": {
   "display_name": "Python 3",
   "language": "python",
   "name": "python3"
  },
  "language_info": {
   "codemirror_mode": {
    "name": "ipython",
    "version": 3
   },
   "file_extension": ".py",
   "mimetype": "text/x-python",
   "name": "python",
   "nbconvert_exporter": "python",
   "pygments_lexer": "ipython3",
   "version": "3.7.4"
  }
 },
 "nbformat": 4,
 "nbformat_minor": 2
}
