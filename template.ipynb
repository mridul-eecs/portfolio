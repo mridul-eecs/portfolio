{
 "cells": [
  {
   "cell_type": "markdown",
   "metadata": {},
   "source": [
    "# Scoping\n",
    "## Define Project \n",
    "1. Decide to work on speech recognition for voice search\n",
    "2. Decide on key metrics: Accuracy, Latency, Throughput, queries per second\n",
    "3. Estimate resources and timeline\n",
    "4. Decide deployment device (edge or cloud)\n",
    "    "
   ]
  },
  {
   "cell_type": "code",
   "execution_count": null,
   "metadata": {},
   "outputs": [],
   "source": []
  },
  {
   "cell_type": "markdown",
   "metadata": {},
   "source": [
    "# Data\n",
    "1. Define Data and establish baseline\n",
    "2. Label and organize data\n",
    "    "
   ]
  },
  {
   "cell_type": "code",
   "execution_count": null,
   "metadata": {},
   "outputs": [],
   "source": []
  },
  {
   "cell_type": "markdown",
   "metadata": {},
   "source": [
    "# Modeling\n",
    "\n",
    "### Select and Train model\n",
    "1. optimize data\n",
    "2. choose algorithm\n",
    "3. choose hyperparameters\n",
    "\n",
    "### Perform error analysis\n",
    "1. Check the type of error\n",
    "2. Bias variance check\n",
    "    1. Low-Bias, Low-Variance:\n",
    "    The combination of low bias and low variance shows an ideal machine learning model. However, it is not possible practically.\n",
    "    2. Low-Bias, High-Variance: With low bias and high variance, model predictions are inconsistent and accurate on average. This case occurs when the model learns with a large number of parameters and hence leads to an overfitting\n",
    "    3. High-Bias, Low-Variance: With High bias and low variance, predictions are consistent but inaccurate on average. This case occurs when a model does not learn well with the training dataset or uses few numbers of the parameter. It leads to underfitting problems in the model.\n",
    "    4. High-Bias, High-Variance:\n",
    "    With high bias and high variance, predictions are inconsistent and also inaccurate on average.\n",
    "\n"
   ]
  },
  {
   "cell_type": "code",
   "execution_count": null,
   "metadata": {},
   "outputs": [],
   "source": []
  },
  {
   "cell_type": "markdown",
   "metadata": {},
   "source": [
    "# Deployment\n",
    "\n",
    "### Deploy in production\n",
    "\n",
    "### Monitor and maintain system\n",
    "1. concept drift/ data drift"
   ]
  },
  {
   "cell_type": "code",
   "execution_count": null,
   "metadata": {},
   "outputs": [],
   "source": []
  },
  {
   "cell_type": "code",
   "execution_count": null,
   "metadata": {},
   "outputs": [],
   "source": []
  }
 ],
 "metadata": {
  "kernelspec": {
   "display_name": "Python 3",
   "language": "python",
   "name": "python3"
  },
  "language_info": {
   "codemirror_mode": {
    "name": "ipython",
    "version": 3
   },
   "file_extension": ".py",
   "mimetype": "text/x-python",
   "name": "python",
   "nbconvert_exporter": "python",
   "pygments_lexer": "ipython3",
   "version": "3.7.4"
  }
 },
 "nbformat": 4,
 "nbformat_minor": 2
}
